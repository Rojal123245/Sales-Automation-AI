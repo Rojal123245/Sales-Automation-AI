{
 "cells": [
  {
   "cell_type": "code",
   "execution_count": 1,
   "metadata": {},
   "outputs": [
    {
     "name": "stderr",
     "output_type": "stream",
     "text": [
      "/var/folders/m5/flclr2h56f56f4j7mr5_8qk80000gn/T/ipykernel_54039/1662815981.py:2: DeprecationWarning: \n",
      "Pyarrow will become a required dependency of pandas in the next major release of pandas (pandas 3.0),\n",
      "(to allow more performant data types, such as the Arrow string type, and better interoperability with other libraries)\n",
      "but was not found to be installed on your system.\n",
      "If this would cause problems for you,\n",
      "please provide us feedback at https://github.com/pandas-dev/pandas/issues/54466\n",
      "        \n",
      "  import pandas as pd\n"
     ]
    }
   ],
   "source": [
    "import numpy as np\n",
    "import pandas as pd"
   ]
  },
  {
   "cell_type": "code",
   "execution_count": 4,
   "metadata": {},
   "outputs": [
    {
     "data": {
      "text/html": [
       "<div>\n",
       "<style scoped>\n",
       "    .dataframe tbody tr th:only-of-type {\n",
       "        vertical-align: middle;\n",
       "    }\n",
       "\n",
       "    .dataframe tbody tr th {\n",
       "        vertical-align: top;\n",
       "    }\n",
       "\n",
       "    .dataframe thead th {\n",
       "        text-align: right;\n",
       "    }\n",
       "</style>\n",
       "<table border=\"1\" class=\"dataframe\">\n",
       "  <thead>\n",
       "    <tr style=\"text-align: right;\">\n",
       "      <th></th>\n",
       "      <th>Date</th>\n",
       "      <th>Day</th>\n",
       "      <th>Item Name</th>\n",
       "      <th>Price</th>\n",
       "      <th>In Stock</th>\n",
       "      <th>Total Stock</th>\n",
       "      <th>Sales</th>\n",
       "      <th>Stock Left</th>\n",
       "      <th>Revenue</th>\n",
       "    </tr>\n",
       "  </thead>\n",
       "  <tbody>\n",
       "    <tr>\n",
       "      <th>0</th>\n",
       "      <td>2022-01-01</td>\n",
       "      <td>Saturday</td>\n",
       "      <td>Tea</td>\n",
       "      <td>11.65</td>\n",
       "      <td>True</td>\n",
       "      <td>64</td>\n",
       "      <td>19</td>\n",
       "      <td>45</td>\n",
       "      <td>221.35</td>\n",
       "    </tr>\n",
       "    <tr>\n",
       "      <th>1</th>\n",
       "      <td>2022-01-01</td>\n",
       "      <td>Saturday</td>\n",
       "      <td>Shaving Cream</td>\n",
       "      <td>36.52</td>\n",
       "      <td>True</td>\n",
       "      <td>78</td>\n",
       "      <td>23</td>\n",
       "      <td>55</td>\n",
       "      <td>839.96</td>\n",
       "    </tr>\n",
       "    <tr>\n",
       "      <th>2</th>\n",
       "      <td>2022-01-01</td>\n",
       "      <td>Saturday</td>\n",
       "      <td>All-Purpose Cleaner</td>\n",
       "      <td>13.58</td>\n",
       "      <td>True</td>\n",
       "      <td>109</td>\n",
       "      <td>28</td>\n",
       "      <td>81</td>\n",
       "      <td>380.24</td>\n",
       "    </tr>\n",
       "    <tr>\n",
       "      <th>3</th>\n",
       "      <td>2022-01-01</td>\n",
       "      <td>Saturday</td>\n",
       "      <td>Rice</td>\n",
       "      <td>6.30</td>\n",
       "      <td>True</td>\n",
       "      <td>187</td>\n",
       "      <td>14</td>\n",
       "      <td>173</td>\n",
       "      <td>88.20</td>\n",
       "    </tr>\n",
       "    <tr>\n",
       "      <th>4</th>\n",
       "      <td>2022-01-01</td>\n",
       "      <td>Saturday</td>\n",
       "      <td>Perfume</td>\n",
       "      <td>43.33</td>\n",
       "      <td>True</td>\n",
       "      <td>137</td>\n",
       "      <td>0</td>\n",
       "      <td>137</td>\n",
       "      <td>0.00</td>\n",
       "    </tr>\n",
       "  </tbody>\n",
       "</table>\n",
       "</div>"
      ],
      "text/plain": [
       "         Date       Day            Item Name  Price  In Stock  Total Stock  \\\n",
       "0  2022-01-01  Saturday                  Tea  11.65      True           64   \n",
       "1  2022-01-01  Saturday        Shaving Cream  36.52      True           78   \n",
       "2  2022-01-01  Saturday  All-Purpose Cleaner  13.58      True          109   \n",
       "3  2022-01-01  Saturday                 Rice   6.30      True          187   \n",
       "4  2022-01-01  Saturday              Perfume  43.33      True          137   \n",
       "\n",
       "   Sales  Stock Left  Revenue  \n",
       "0     19          45   221.35  \n",
       "1     23          55   839.96  \n",
       "2     28          81   380.24  \n",
       "3     14         173    88.20  \n",
       "4      0         137     0.00  "
      ]
     },
     "execution_count": 4,
     "metadata": {},
     "output_type": "execute_result"
    }
   ],
   "source": [
    "data = pd.read_csv('../data/retail_store_data_with_real_items.csv')\n",
    "data.head()"
   ]
  },
  {
   "cell_type": "code",
   "execution_count": null,
   "metadata": {},
   "outputs": [],
   "source": []
  }
 ],
 "metadata": {
  "kernelspec": {
   "display_name": "college",
   "language": "python",
   "name": "python3"
  },
  "language_info": {
   "codemirror_mode": {
    "name": "ipython",
    "version": 3
   },
   "file_extension": ".py",
   "mimetype": "text/x-python",
   "name": "python",
   "nbconvert_exporter": "python",
   "pygments_lexer": "ipython3",
   "version": "3.9.18"
  }
 },
 "nbformat": 4,
 "nbformat_minor": 2
}
